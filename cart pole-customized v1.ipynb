{
 "cells": [
  {
   "cell_type": "code",
   "execution_count": 1,
   "metadata": {},
   "outputs": [
    {
     "name": "stdout",
     "output_type": "stream",
     "text": [
      "curses is not supported on this machine (please install/reinstall curses for an optimal experience)\n"
     ]
    }
   ],
   "source": [
    "import gym\n",
    "import random\n",
    "import tflearn as tf\n",
    "import numpy as np\n",
    "from tflearn.layers.core import input_data, dropout, fully_connected\n",
    "from tflearn.layers.estimator import regression\n",
    "from statistics import mean, median\n",
    "from collections import Counter"
   ]
  },
  {
   "cell_type": "code",
   "execution_count": 2,
   "metadata": {},
   "outputs": [
    {
     "name": "stderr",
     "output_type": "stream",
     "text": [
      "/home/ankit/anaconda3/lib/python3.6/site-packages/gym/envs/registration.py:14: PkgResourcesDeprecationWarning: Parameters to load are deprecated.  Call .resolve and .require separately.\n",
      "  result = entry_point.load(False)\n"
     ]
    }
   ],
   "source": [
    "LR = 1e-3\n",
    "\n",
    "env = gym.make('CartPole-v0')\n",
    "env.reset()\n",
    "max_goal= 500\n",
    "score_requirement= 50\n",
    "initial_games = 10000\n"
   ]
  },
  {
   "cell_type": "code",
   "execution_count": 3,
   "metadata": {},
   "outputs": [],
   "source": [
    "def some_random_games():\n",
    "    for episode in range(50):\n",
    "        env.reset()\n",
    "        for t in range(max_goal):\n",
    "            env.render()\n",
    "            action = env.action_space.sample()     #  provided in gym\n",
    "            observation, reward, done, info = env.step(action)\n",
    "            if done:\n",
    "                break"
   ]
  },
  {
   "cell_type": "code",
   "execution_count": 4,
   "metadata": {},
   "outputs": [],
   "source": [
    "#some_random_games()"
   ]
  },
  {
   "cell_type": "code",
   "execution_count": 5,
   "metadata": {},
   "outputs": [],
   "source": [
    "def initial_population():\n",
    "    training_data = []\n",
    "    scores = []\n",
    "    accepted_scores = [] \n",
    "    for _ in range(initial_games):\n",
    "        score = 0\n",
    "        game_memory = []\n",
    "        prev_observation = []\n",
    "        for _ in range(max_goal):\n",
    "#             env.render()\n",
    "            action = random.randrange(0,2)\n",
    "            observation, reward, done, info = env.step(action)\n",
    "            if len(prev_observation)>0:\n",
    "                game_memory.append([prev_observation,action])\n",
    "\n",
    "            prev_observation = observation\n",
    "            score+= reward\n",
    "            if done:\n",
    "                break\n",
    "        if score>=score_requirement:\n",
    "            accepted_scores.append(score)\n",
    "            for data in game_memory:\n",
    "                if data[1]==1:\n",
    "                    output = [0,1]\n",
    "                elif data[1] ==0:\n",
    "                    output = [1,0]\n",
    "                training_data.append([data[0],output])\n",
    "                \n",
    "                \n",
    "        env.reset()\n",
    "        scores.append(score)\n",
    "    training_data_save = np.array(training_data)\n",
    "#     np.save('saved.npy', training_data_save)\n",
    "    print('Average accepted score:', mean(accepted_scores))\n",
    "    print('Median accepted score :', median(accepted_scores))\n",
    "    print(Counter(accepted_scores))\n",
    "    \n",
    "    return training_data"
   ]
  },
  {
   "cell_type": "code",
   "execution_count": 6,
   "metadata": {
    "scrolled": true
   },
   "outputs": [],
   "source": [
    "# initial_population()"
   ]
  },
  {
   "cell_type": "code",
   "execution_count": 7,
   "metadata": {},
   "outputs": [],
   "source": [
    "def neural_network_model(input_size):\n",
    "    network = input_data(shape=[None,input_size,1],name  = 'input')\n",
    "    \n",
    "    network = fully_connected(network,128,activation = 'relu')\n",
    "    network = dropout(network,0.8)\n",
    "    \n",
    "    network = fully_connected(network,256,activation = 'relu')\n",
    "    network = dropout(network,0.8)\n",
    "    \n",
    "    network = fully_connected(network,512,activation = 'relu')\n",
    "    network = dropout(network,0.8)\n",
    "    \n",
    "    network = fully_connected(network,256,activation = 'relu')\n",
    "    network = dropout(network,0.8)\n",
    "    \n",
    "    network = fully_connected(network,128,activation = 'relu')\n",
    "    network = dropout(network,0.8)\n",
    "    \n",
    "    network = fully_connected(network,2,activation = 'softmax')\n",
    "    network = regression(network,optimizer = 'adam', learning_rate=LR, \n",
    "                         loss='categorical_crossentropy',name='targets')\n",
    "    \n",
    "    model =  tf.DNN(network,tensorboard_dir= 'Final_log_v1_raw_training')\n",
    "    \n",
    "    return model\n",
    "\n",
    "def train_model(training_data, model  = False):\n",
    "    X = np.array([i[0] for i in training_data]).reshape(-1,len(training_data[0][0]),1)\n",
    "    y = [i[1] for i in training_data]\n",
    "    \n",
    "    if not model:\n",
    "        model =neural_network_model(input_size= len(X[0]))\n",
    "        \n",
    "    model.fit({'input':X},{'targets':y},n_epoch=3,snapshot_step=500,show_metric =True,run_id = 'openai')\n",
    "    \n",
    "    return model\n",
    "    \n",
    "    \n",
    "    \n",
    "    "
   ]
  },
  {
   "cell_type": "code",
   "execution_count": 8,
   "metadata": {},
   "outputs": [
    {
     "name": "stdout",
     "output_type": "stream",
     "text": [
      "Average accepted score: 60.544925124792016\n",
      "Median accepted score : 58.0\n",
      "Counter({51.0: 95, 50.0: 94, 52.0: 81, 54.0: 80, 53.0: 74, 56.0: 57, 57.0: 56, 59.0: 55, 55.0: 55, 58.0: 48, 60.0: 46, 62.0: 45, 61.0: 42, 63.0: 40, 65.0: 28, 67.0: 27, 66.0: 23, 70.0: 22, 64.0: 21, 69.0: 19, 72.0: 18, 73.0: 17, 68.0: 17, 71.0: 15, 74.0: 13, 79.0: 12, 76.0: 9, 84.0: 9, 81.0: 8, 80.0: 8, 77.0: 8, 82.0: 7, 78.0: 6, 86.0: 5, 83.0: 5, 75.0: 5, 87.0: 3, 96.0: 3, 91.0: 3, 92.0: 2, 102.0: 2, 85.0: 2, 107.0: 2, 93.0: 2, 95.0: 2, 88.0: 2, 104.0: 1, 100.0: 1, 103.0: 1, 99.0: 1, 120.0: 1, 115.0: 1, 108.0: 1, 94.0: 1, 101.0: 1})\n"
     ]
    }
   ],
   "source": [
    "training_data = initial_population()\n",
    "# training_data = np.load('saved.npy')"
   ]
  },
  {
   "cell_type": "code",
   "execution_count": 9,
   "metadata": {},
   "outputs": [
    {
     "name": "stdout",
     "output_type": "stream",
     "text": [
      "Training Step: 3356  | total loss: \u001b[1m\u001b[32m0.69298\u001b[0m\u001b[0m | time: 20.628s\n",
      "| Adam | epoch: 003 | loss: 0.69298 - acc: 0.5228 -- iter: 71552/71573\n",
      "Training Step: 3357  | total loss: \u001b[1m\u001b[32m0.69298\u001b[0m\u001b[0m | time: 20.646s\n",
      "| Adam | epoch: 003 | loss: 0.69298 - acc: 0.5221 -- iter: 71573/71573\n",
      "--\n"
     ]
    }
   ],
   "source": [
    "model= train_model(training_data)\n",
    "# model= model.load('cartpole0.model')"
   ]
  },
  {
   "cell_type": "code",
   "execution_count": 10,
   "metadata": {},
   "outputs": [],
   "source": [
    "# model.save('cartpole0.model')"
   ]
  },
  {
   "cell_type": "code",
   "execution_count": 11,
   "metadata": {},
   "outputs": [],
   "source": [
    "# model.load('cartpole0.model')"
   ]
  },
  {
   "cell_type": "code",
   "execution_count": 20,
   "metadata": {},
   "outputs": [
    {
     "name": "stdout",
     "output_type": "stream",
     "text": [
      "Average Score 27.43\n",
      "Choices1:{} Choice 2: 0.9794021144732045 0.02059788552679548\n"
     ]
    }
   ],
   "source": [
    "scores=[]\n",
    "choices =[]\n",
    "\n",
    "for each_game in range(200):\n",
    "    score=0\n",
    "    game_memory=[]\n",
    "    prev_obs = []\n",
    "    env.reset()\n",
    "    for _ in range(max_goal):\n",
    "        env.render()\n",
    "        if len(prev_obs)==0:\n",
    "            action = random.randrange(0,2)\n",
    "        else:\n",
    "            action = np.argmax(model.predict(prev_obs.reshape(-1,len(prev_obs),1))[0])\n",
    "        choices.append(action)\n",
    "        \n",
    "        new_observation,reward,done,info = env.step(action)\n",
    "        prev_obs = new_observation\n",
    "        game_memory.append([new_observation,action])\n",
    "        score += reward\n",
    "        if done:\n",
    "            break\n",
    "    scores.append(score)\n",
    "print('Average Score', sum(scores)/len(scores))\n",
    "print('Choices1:{}','Choice 2: {}'.format(choices.count(1)/len(choices)),choices.count(0)/len(choices))\n",
    "\n"
   ]
  },
  {
   "cell_type": "code",
   "execution_count": 13,
   "metadata": {},
   "outputs": [],
   "source": [
    "# final_scores = np.sort(scores)\n"
   ]
  },
  {
   "cell_type": "code",
   "execution_count": 14,
   "metadata": {},
   "outputs": [
    {
     "data": {
      "text/plain": [
       "Text(0, 0.5, 'average score')"
      ]
     },
     "execution_count": 14,
     "metadata": {},
     "output_type": "execute_result"
    }
   ],
   "source": [
    "# final_scores = np.sort(scores)\n",
    "\n",
    "# import matplotlib.pyplot as plt\n",
    "# plt.plot(np.sort(final_scores))\n",
    "# plt.title('Default Cartpole')\n",
    "# plt.xlabel(\"episode\")\n",
    "# plt.ylabel('average score')"
   ]
  },
  {
   "cell_type": "code",
   "execution_count": 17,
   "metadata": {},
   "outputs": [],
   "source": [
    "np.save('savev1raw.npy', final_scores)\n"
   ]
  },
  {
   "cell_type": "code",
   "execution_count": null,
   "metadata": {},
   "outputs": [],
   "source": []
  }
 ],
 "metadata": {
  "kernelspec": {
   "display_name": "Python 3",
   "language": "python",
   "name": "python3"
  },
  "language_info": {
   "codemirror_mode": {
    "name": "ipython",
    "version": 3
   },
   "file_extension": ".py",
   "mimetype": "text/x-python",
   "name": "python",
   "nbconvert_exporter": "python",
   "pygments_lexer": "ipython3",
   "version": "3.6.6"
  }
 },
 "nbformat": 4,
 "nbformat_minor": 2
}
